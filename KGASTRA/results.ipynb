{
  "nbformat": 4,
  "nbformat_minor": 0,
  "metadata": {
    "colab": {
      "name": "results.ipynb",
      "provenance": []
    },
    "kernelspec": {
      "name": "python3",
      "display_name": "Python 3"
    },
    "language_info": {
      "name": "python"
    }
  },
  "cells": [
    {
      "cell_type": "code",
      "metadata": {
        "colab": {
          "base_uri": "https://localhost:8080/"
        },
        "id": "rxNqeP1HuJrB",
        "outputId": "af1f246d-5001-4180-cf8f-4435cfd140bd"
      },
      "source": [
        "from google.colab import drive\n",
        "drive.mount('/content/gdrive/',force_remount=True)"
      ],
      "execution_count": 1,
      "outputs": [
        {
          "output_type": "stream",
          "text": [
            "Mounted at /content/gdrive/\n"
          ],
          "name": "stdout"
        }
      ]
    },
    {
      "cell_type": "code",
      "metadata": {
        "id": "7EMG2kOMuhIi"
      },
      "source": [
        "path = \"/content/gdrive/My Drive/sanju ma'am/\""
      ],
      "execution_count": 3,
      "outputs": []
    },
    {
      "cell_type": "code",
      "metadata": {
        "id": "f6zqf0t8vBW1"
      },
      "source": [
        "import os\n",
        "import pandas as pd\n",
        "import numpy as np\n",
        "from sklearn.metrics import recall_score,precision_score,f1_score,accuracy_score"
      ],
      "execution_count": 64,
      "outputs": []
    },
    {
      "cell_type": "code",
      "metadata": {
        "colab": {
          "base_uri": "https://localhost:8080/"
        },
        "id": "2Naa8K4nvD2t",
        "outputId": "99d9772f-41db-48d0-9580-904bac024bc9"
      },
      "source": [
        "os.listdir(path)"
      ],
      "execution_count": 8,
      "outputs": [
        {
          "output_type": "execute_result",
          "data": {
            "text/plain": [
              "['Questions.gsheet', 'Questions.csv']"
            ]
          },
          "metadata": {
            "tags": []
          },
          "execution_count": 8
        }
      ]
    },
    {
      "cell_type": "code",
      "metadata": {
        "id": "K6rcNG2RvE_V"
      },
      "source": [
        "df1 = pd.read_csv(path+'Questions.csv')"
      ],
      "execution_count": 9,
      "outputs": []
    },
    {
      "cell_type": "code",
      "metadata": {
        "colab": {
          "base_uri": "https://localhost:8080/",
          "height": 547
        },
        "id": "wxtQFH74wXz_",
        "outputId": "25e033ed-06ef-4068-98a1-ebb06c031d34"
      },
      "source": [
        "df1.head()"
      ],
      "execution_count": 10,
      "outputs": [
        {
          "output_type": "execute_result",
          "data": {
            "text/html": [
              "<div>\n",
              "<style scoped>\n",
              "    .dataframe tbody tr th:only-of-type {\n",
              "        vertical-align: middle;\n",
              "    }\n",
              "\n",
              "    .dataframe tbody tr th {\n",
              "        vertical-align: top;\n",
              "    }\n",
              "\n",
              "    .dataframe thead th {\n",
              "        text-align: right;\n",
              "    }\n",
              "</style>\n",
              "<table border=\"1\" class=\"dataframe\">\n",
              "  <thead>\n",
              "    <tr style=\"text-align: right;\">\n",
              "      <th></th>\n",
              "      <th>Natural Language Question</th>\n",
              "      <th>Category</th>\n",
              "      <th>Sucessfully Executed</th>\n",
              "      <th>Accepted</th>\n",
              "      <th>Discarded</th>\n",
              "      <th>Bing</th>\n",
              "      <th>Google</th>\n",
              "      <th>KG4ASTRA</th>\n",
              "      <th>Unnamed: 8</th>\n",
              "      <th>Unnamed: 9</th>\n",
              "      <th>Unnamed: 10</th>\n",
              "      <th>Unnamed: 11</th>\n",
              "      <th>Unnamed: 12</th>\n",
              "      <th>Unnamed: 13</th>\n",
              "      <th>Unnamed: 14</th>\n",
              "      <th>Unnamed: 15</th>\n",
              "      <th>Unnamed: 16</th>\n",
              "      <th>Unnamed: 17</th>\n",
              "      <th>Unnamed: 18</th>\n",
              "      <th>Unnamed: 19</th>\n",
              "      <th>Unnamed: 20</th>\n",
              "      <th>Unnamed: 21</th>\n",
              "      <th>Unnamed: 22</th>\n",
              "      <th>Unnamed: 23</th>\n",
              "      <th>Unnamed: 24</th>\n",
              "      <th>Unnamed: 25</th>\n",
              "      <th>Unnamed: 26</th>\n",
              "    </tr>\n",
              "  </thead>\n",
              "  <tbody>\n",
              "    <tr>\n",
              "      <th>0</th>\n",
              "      <td>What are the names of all Air-Air missiles?</td>\n",
              "      <td>Missile Type</td>\n",
              "      <td>yes</td>\n",
              "      <td>yes</td>\n",
              "      <td>NaN</td>\n",
              "      <td>0</td>\n",
              "      <td>1</td>\n",
              "      <td>1</td>\n",
              "      <td>NaN</td>\n",
              "      <td>NaN</td>\n",
              "      <td>NaN</td>\n",
              "      <td>NaN</td>\n",
              "      <td>NaN</td>\n",
              "      <td>NaN</td>\n",
              "      <td>NaN</td>\n",
              "      <td>NaN</td>\n",
              "      <td>NaN</td>\n",
              "      <td>NaN</td>\n",
              "      <td>NaN</td>\n",
              "      <td>NaN</td>\n",
              "      <td>NaN</td>\n",
              "      <td>NaN</td>\n",
              "      <td>NaN</td>\n",
              "      <td>NaN</td>\n",
              "      <td>NaN</td>\n",
              "      <td>NaN</td>\n",
              "      <td>NaN</td>\n",
              "    </tr>\n",
              "    <tr>\n",
              "      <th>1</th>\n",
              "      <td>what are the names of all Surface-Air and Surf...</td>\n",
              "      <td>Missile Type</td>\n",
              "      <td>yes</td>\n",
              "      <td>yes</td>\n",
              "      <td>NaN</td>\n",
              "      <td>0</td>\n",
              "      <td>0</td>\n",
              "      <td>1</td>\n",
              "      <td>NaN</td>\n",
              "      <td>NaN</td>\n",
              "      <td>NaN</td>\n",
              "      <td>NaN</td>\n",
              "      <td>NaN</td>\n",
              "      <td>NaN</td>\n",
              "      <td>NaN</td>\n",
              "      <td>NaN</td>\n",
              "      <td>NaN</td>\n",
              "      <td>NaN</td>\n",
              "      <td>NaN</td>\n",
              "      <td>NaN</td>\n",
              "      <td>NaN</td>\n",
              "      <td>NaN</td>\n",
              "      <td>NaN</td>\n",
              "      <td>NaN</td>\n",
              "      <td>NaN</td>\n",
              "      <td>NaN</td>\n",
              "      <td>NaN</td>\n",
              "    </tr>\n",
              "    <tr>\n",
              "      <th>2</th>\n",
              "      <td>what are the names of all Surface-Air and Defe...</td>\n",
              "      <td>Missile Type</td>\n",
              "      <td>yes</td>\n",
              "      <td>yes</td>\n",
              "      <td>NaN</td>\n",
              "      <td>0</td>\n",
              "      <td>0</td>\n",
              "      <td>1</td>\n",
              "      <td>NaN</td>\n",
              "      <td>NaN</td>\n",
              "      <td>NaN</td>\n",
              "      <td>NaN</td>\n",
              "      <td>NaN</td>\n",
              "      <td>NaN</td>\n",
              "      <td>NaN</td>\n",
              "      <td>NaN</td>\n",
              "      <td>NaN</td>\n",
              "      <td>NaN</td>\n",
              "      <td>NaN</td>\n",
              "      <td>NaN</td>\n",
              "      <td>NaN</td>\n",
              "      <td>NaN</td>\n",
              "      <td>NaN</td>\n",
              "      <td>NaN</td>\n",
              "      <td>NaN</td>\n",
              "      <td>NaN</td>\n",
              "      <td>NaN</td>\n",
              "    </tr>\n",
              "    <tr>\n",
              "      <th>3</th>\n",
              "      <td>which Submarine missiles have been manufacture...</td>\n",
              "      <td>Missile Type</td>\n",
              "      <td>yes</td>\n",
              "      <td>yes</td>\n",
              "      <td>NaN</td>\n",
              "      <td>1</td>\n",
              "      <td>1</td>\n",
              "      <td>1</td>\n",
              "      <td>NaN</td>\n",
              "      <td>NaN</td>\n",
              "      <td>NaN</td>\n",
              "      <td>NaN</td>\n",
              "      <td>NaN</td>\n",
              "      <td>NaN</td>\n",
              "      <td>NaN</td>\n",
              "      <td>NaN</td>\n",
              "      <td>NaN</td>\n",
              "      <td>NaN</td>\n",
              "      <td>NaN</td>\n",
              "      <td>NaN</td>\n",
              "      <td>NaN</td>\n",
              "      <td>NaN</td>\n",
              "      <td>NaN</td>\n",
              "      <td>NaN</td>\n",
              "      <td>NaN</td>\n",
              "      <td>NaN</td>\n",
              "      <td>NaN</td>\n",
              "    </tr>\n",
              "    <tr>\n",
              "      <th>4</th>\n",
              "      <td>which Air-Air missiles have been manufactured ...</td>\n",
              "      <td>Missile Type</td>\n",
              "      <td>yes</td>\n",
              "      <td>yes</td>\n",
              "      <td>NaN</td>\n",
              "      <td>0</td>\n",
              "      <td>1</td>\n",
              "      <td>1</td>\n",
              "      <td>NaN</td>\n",
              "      <td>NaN</td>\n",
              "      <td>NaN</td>\n",
              "      <td>NaN</td>\n",
              "      <td>NaN</td>\n",
              "      <td>NaN</td>\n",
              "      <td>NaN</td>\n",
              "      <td>NaN</td>\n",
              "      <td>NaN</td>\n",
              "      <td>NaN</td>\n",
              "      <td>NaN</td>\n",
              "      <td>NaN</td>\n",
              "      <td>NaN</td>\n",
              "      <td>NaN</td>\n",
              "      <td>NaN</td>\n",
              "      <td>NaN</td>\n",
              "      <td>NaN</td>\n",
              "      <td>NaN</td>\n",
              "      <td>NaN</td>\n",
              "    </tr>\n",
              "  </tbody>\n",
              "</table>\n",
              "</div>"
            ],
            "text/plain": [
              "                           Natural Language Question  ... Unnamed: 26\n",
              "0        What are the names of all Air-Air missiles?  ...         NaN\n",
              "1  what are the names of all Surface-Air and Surf...  ...         NaN\n",
              "2  what are the names of all Surface-Air and Defe...  ...         NaN\n",
              "3  which Submarine missiles have been manufacture...  ...         NaN\n",
              "4  which Air-Air missiles have been manufactured ...  ...         NaN\n",
              "\n",
              "[5 rows x 27 columns]"
            ]
          },
          "metadata": {
            "tags": []
          },
          "execution_count": 10
        }
      ]
    },
    {
      "cell_type": "code",
      "metadata": {
        "id": "OmeZr1wgwavM"
      },
      "source": [
        "data = df1[['Bing', 'Google ', 'KG4ASTRA']].values"
      ],
      "execution_count": 22,
      "outputs": []
    },
    {
      "cell_type": "code",
      "metadata": {
        "colab": {
          "base_uri": "https://localhost:8080/"
        },
        "id": "wZ_gLxK1wvpR",
        "outputId": "934395a1-732b-40fa-b443-310076ee44bb"
      },
      "source": [
        "data.shape"
      ],
      "execution_count": 24,
      "outputs": [
        {
          "output_type": "execute_result",
          "data": {
            "text/plain": [
              "(119, 3)"
            ]
          },
          "metadata": {
            "tags": []
          },
          "execution_count": 24
        }
      ]
    },
    {
      "cell_type": "code",
      "metadata": {
        "id": "usgVY-BPxcH7"
      },
      "source": [
        "y_true = np.ones((119,),dtype=np.int32)"
      ],
      "execution_count": 26,
      "outputs": []
    },
    {
      "cell_type": "code",
      "metadata": {
        "id": "EOhQwnTexIx_"
      },
      "source": [
        "frame = df1.groupby('Category')"
      ],
      "execution_count": 29,
      "outputs": []
    },
    {
      "cell_type": "code",
      "metadata": {
        "colab": {
          "base_uri": "https://localhost:8080/"
        },
        "id": "tubVEArYx5nN",
        "outputId": "a079c0f1-f197-4794-fd2d-7637206bd9b7"
      },
      "source": [
        "frame.groups.keys()"
      ],
      "execution_count": 36,
      "outputs": [
        {
          "output_type": "execute_result",
          "data": {
            "text/plain": [
              "dict_keys(['Launch Platform Based', 'Manufacturer Based', 'Missile Type', 'Missile Type ', 'Missile Type and  Manufacturer Based', 'Missile Type and Range Type', 'Missile Type, Range Type and Manufacturer Based', 'Range Type', 'Range Type and Launch Platform Based'])"
            ]
          },
          "metadata": {
            "tags": []
          },
          "execution_count": 36
        }
      ]
    },
    {
      "cell_type": "code",
      "metadata": {
        "id": "IcNp_YaWx5kY"
      },
      "source": [
        "missile_data = frame.get_group('Missile Type')[['Bing','Google ','KG4ASTRA']].values\n",
        "missile_data = np.append(missile_data,frame.get_group('Missile Type ')[['Bing','Google ','KG4ASTRA']].values,axis=0)\n",
        "missile_data = np.append(missile_data,frame.get_group('Missile Type and  Manufacturer Based')[['Bing','Google ','KG4ASTRA']].values,axis=0)\n",
        "missile_data = np.append(missile_data,frame.get_group('Missile Type and Range Type')[['Bing','Google ','KG4ASTRA']].values,axis=0)\n",
        "missile_data = np.append(missile_data,frame.get_group('Missile Type, Range Type and Manufacturer Based')[['Bing','Google ','KG4ASTRA']].values,axis=0)"
      ],
      "execution_count": 68,
      "outputs": []
    },
    {
      "cell_type": "code",
      "metadata": {
        "colab": {
          "base_uri": "https://localhost:8080/"
        },
        "id": "bHD6pDuW5Yek",
        "outputId": "6301b618-3950-4e12-93fa-de7bed719f3a"
      },
      "source": [
        "y_true = np.ones((missile_data.shape[0],),dtype=np.int32)\n",
        "print('RECALL: bing:{}  Google:{} KG4ASTRA:{}'.format(recall_score(y_true,missile_data[:,0]),recall_score(y_true,missile_data[:,1]),recall_score(y_true,missile_data[:,2]) ) )\n",
        "print('PRECISION: bing:{}  Google:{} KG4ASTRA:{}'.format(precision_score(y_true,missile_data[:,0]),precision_score(y_true,missile_data[:,1]),precision_score(y_true,missile_data[:,2]) ) )\n",
        "print('ACCURACY: bing:{}  Google:{} KG4ASTRA:{}'.format(accuracy_score(y_true,missile_data[:,0]),accuracy_score(y_true,missile_data[:,1]),accuracy_score(y_true,missile_data[:,2]) ) )\n",
        "print('F1: bing:{}  Google:{} KG4ASTRA:{}'.format(f1_score(y_true,missile_data[:,0]),f1_score(y_true,missile_data[:,1]),f1_score(y_true,missile_data[:,2]) ) )"
      ],
      "execution_count": 69,
      "outputs": [
        {
          "output_type": "stream",
          "text": [
            "RECALL: bing:0.15789473684210525  Google:0.40350877192982454 KG4ASTRA:0.9824561403508771\n",
            "PRECISION: bing:1.0  Google:1.0 KG4ASTRA:1.0\n",
            "ACCURACY: bing:0.15789473684210525  Google:0.40350877192982454 KG4ASTRA:0.9824561403508771\n",
            "F1: bing:0.2727272727272727  Google:0.575 KG4ASTRA:0.9911504424778761\n"
          ],
          "name": "stdout"
        }
      ]
    },
    {
      "cell_type": "code",
      "metadata": {
        "id": "YsVPnuUi61ML"
      },
      "source": [
        ""
      ],
      "execution_count": null,
      "outputs": []
    },
    {
      "cell_type": "code",
      "metadata": {
        "id": "il8_uRvj62h2"
      },
      "source": [
        "missile_data = frame.get_group('Launch Platform Based')[['Bing','Google ','KG4ASTRA']].values\n",
        "missile_data = np.append(missile_data,frame.get_group('Range Type and Launch Platform Based')[['Bing','Google ','KG4ASTRA']].values,axis=0)\n",
        "#missile_data = np.append(missile_data,frame.get_group('Missile Type and  Manufacturer Based')[['Bing','Google ','KG4ASTRA']].values,axis=0)\n",
        "#missile_data = np.append(missile_data,frame.get_group('Missile Type and Range Type')[['Bing','Google ','KG4ASTRA']].values,axis=0)\n",
        "#missile_data = np.append(missile_data,frame.get_group('Missile Type, Range Type and Manufacturer Based')[['Bing','Google ','KG4ASTRA']].values,axis=0)"
      ],
      "execution_count": 70,
      "outputs": []
    },
    {
      "cell_type": "code",
      "metadata": {
        "colab": {
          "base_uri": "https://localhost:8080/"
        },
        "id": "D0JGs8ZOx5h2",
        "outputId": "e48b1c15-89a0-496d-97d2-986a55f6062b"
      },
      "source": [
        "y_true = np.ones((missile_data.shape[0],),dtype=np.int32)\n",
        "print('RECALL: bing:{}  Google:{} KG4ASTRA:{}'.format(recall_score(y_true,missile_data[:,0]),recall_score(y_true,missile_data[:,1]),recall_score(y_true,missile_data[:,2]) ) )\n",
        "print('PRECISION: bing:{}  Google:{} KG4ASTRA:{}'.format(precision_score(y_true,missile_data[:,0]),precision_score(y_true,missile_data[:,1]),precision_score(y_true,missile_data[:,2]) ) )\n",
        "print('ACCURACY: bing:{}  Google:{} KG4ASTRA:{}'.format(accuracy_score(y_true,missile_data[:,0]),accuracy_score(y_true,missile_data[:,1]),accuracy_score(y_true,missile_data[:,2]) ) )\n",
        "print('F1: bing:{}  Google:{} KG4ASTRA:{}'.format(f1_score(y_true,missile_data[:,0]),f1_score(y_true,missile_data[:,1]),f1_score(y_true,missile_data[:,2]) ) )"
      ],
      "execution_count": 71,
      "outputs": [
        {
          "output_type": "stream",
          "text": [
            "RECALL: bing:0.4  Google:0.55 KG4ASTRA:0.9\n",
            "PRECISION: bing:1.0  Google:1.0 KG4ASTRA:1.0\n",
            "ACCURACY: bing:0.4  Google:0.55 KG4ASTRA:0.9\n",
            "F1: bing:0.5714285714285715  Google:0.7096774193548387 KG4ASTRA:0.9473684210526316\n"
          ],
          "name": "stdout"
        }
      ]
    },
    {
      "cell_type": "code",
      "metadata": {
        "id": "T4EMtkxox5e5"
      },
      "source": [
        ""
      ],
      "execution_count": null,
      "outputs": []
    },
    {
      "cell_type": "code",
      "metadata": {
        "id": "_Dnk9bzix5cA"
      },
      "source": [
        "missile_data = frame.get_group('Manufacturer Based')[['Bing','Google ','KG4ASTRA']].values\n",
        "missile_data = np.append(missile_data,frame.get_group('Missile Type and  Manufacturer Based')[['Bing','Google ','KG4ASTRA']].values,axis=0)\n",
        "missile_data = np.append(missile_data,frame.get_group('Missile Type, Range Type and Manufacturer Based')[['Bing','Google ','KG4ASTRA']].values,axis=0)\n",
        "#missile_data = np.append(missile_data,frame.get_group('Missile Type and Range Type')[['Bing','Google ','KG4ASTRA']].values,axis=0)\n",
        "#missile_data = np.append(missile_data,frame.get_group('Missile Type, Range Type and Manufacturer Based')[['Bing','Google ','KG4ASTRA']].values,axis=0)"
      ],
      "execution_count": 72,
      "outputs": []
    },
    {
      "cell_type": "code",
      "metadata": {
        "colab": {
          "base_uri": "https://localhost:8080/"
        },
        "id": "ZCEJ6LZk7X7r",
        "outputId": "ab757a72-00f2-44cd-c7e0-0add54766bfb"
      },
      "source": [
        "y_true = np.ones((missile_data.shape[0],),dtype=np.int32)\n",
        "print('RECALL: bing:{}  Google:{} KG4ASTRA:{}'.format(recall_score(y_true,missile_data[:,0]),recall_score(y_true,missile_data[:,1]),recall_score(y_true,missile_data[:,2]) ) )\n",
        "print('PRECISION: bing:{}  Google:{} KG4ASTRA:{}'.format(precision_score(y_true,missile_data[:,0]),precision_score(y_true,missile_data[:,1]),precision_score(y_true,missile_data[:,2]) ) )\n",
        "print('ACCURACY: bing:{}  Google:{} KG4ASTRA:{}'.format(accuracy_score(y_true,missile_data[:,0]),accuracy_score(y_true,missile_data[:,1]),accuracy_score(y_true,missile_data[:,2]) ) )\n",
        "print('F1: bing:{}  Google:{} KG4ASTRA:{}'.format(f1_score(y_true,missile_data[:,0]),f1_score(y_true,missile_data[:,1]),f1_score(y_true,missile_data[:,2]) ) )"
      ],
      "execution_count": 73,
      "outputs": [
        {
          "output_type": "stream",
          "text": [
            "RECALL: bing:0.16666666666666666  Google:0.5 KG4ASTRA:1.0\n",
            "PRECISION: bing:1.0  Google:1.0 KG4ASTRA:1.0\n",
            "ACCURACY: bing:0.16666666666666666  Google:0.5 KG4ASTRA:1.0\n",
            "F1: bing:0.2857142857142857  Google:0.6666666666666666 KG4ASTRA:1.0\n"
          ],
          "name": "stdout"
        }
      ]
    },
    {
      "cell_type": "code",
      "metadata": {
        "id": "nZtWTSAg7Yi7"
      },
      "source": [
        ""
      ],
      "execution_count": 73,
      "outputs": []
    },
    {
      "cell_type": "code",
      "metadata": {
        "id": "yCGLY9IX7jmZ"
      },
      "source": [
        "missile_data = frame.get_group('Range Type')[['Bing','Google ','KG4ASTRA']].values\n",
        "missile_data = np.append(missile_data,frame.get_group('Range Type and Launch Platform Based')[['Bing','Google ','KG4ASTRA']].values,axis=0)\n",
        "#missile_data = np.append(missile_data,frame.get_group('Missile Type and  Manufacturer Based')[['Bing','Google ','KG4ASTRA']].values,axis=0)\n",
        "missile_data = np.append(missile_data,frame.get_group('Missile Type and Range Type')[['Bing','Google ','KG4ASTRA']].values,axis=0)\n",
        "missile_data = np.append(missile_data,frame.get_group('Missile Type, Range Type and Manufacturer Based')[['Bing','Google ','KG4ASTRA']].values,axis=0)"
      ],
      "execution_count": 74,
      "outputs": []
    },
    {
      "cell_type": "code",
      "metadata": {
        "colab": {
          "base_uri": "https://localhost:8080/"
        },
        "id": "N2d9ego17xtj",
        "outputId": "40c7fcf7-b866-4b26-f609-42459547a535"
      },
      "source": [
        "y_true = np.ones((missile_data.shape[0],),dtype=np.int32)\n",
        "print('RECALL: bing:{}  Google:{} KG4ASTRA:{}'.format(recall_score(y_true,missile_data[:,0]),recall_score(y_true,missile_data[:,1]),recall_score(y_true,missile_data[:,2]) ) )\n",
        "print('PRECISION: bing:{}  Google:{} KG4ASTRA:{}'.format(precision_score(y_true,missile_data[:,0]),precision_score(y_true,missile_data[:,1]),precision_score(y_true,missile_data[:,2]) ) )\n",
        "print('ACCURACY: bing:{}  Google:{} KG4ASTRA:{}'.format(accuracy_score(y_true,missile_data[:,0]),accuracy_score(y_true,missile_data[:,1]),accuracy_score(y_true,missile_data[:,2]) ) )\n",
        "print('F1: bing:{}  Google:{} KG4ASTRA:{}'.format(f1_score(y_true,missile_data[:,0]),f1_score(y_true,missile_data[:,1]),f1_score(y_true,missile_data[:,2]) ) )"
      ],
      "execution_count": 75,
      "outputs": [
        {
          "output_type": "stream",
          "text": [
            "RECALL: bing:0.14634146341463414  Google:0.2926829268292683 KG4ASTRA:0.975609756097561\n",
            "PRECISION: bing:1.0  Google:1.0 KG4ASTRA:1.0\n",
            "ACCURACY: bing:0.14634146341463414  Google:0.2926829268292683 KG4ASTRA:0.975609756097561\n",
            "F1: bing:0.2553191489361702  Google:0.45283018867924524 KG4ASTRA:0.9876543209876543\n"
          ],
          "name": "stdout"
        }
      ]
    },
    {
      "cell_type": "code",
      "metadata": {
        "id": "lDYDBB847y0H"
      },
      "source": [
        ""
      ],
      "execution_count": null,
      "outputs": []
    }
  ]
}